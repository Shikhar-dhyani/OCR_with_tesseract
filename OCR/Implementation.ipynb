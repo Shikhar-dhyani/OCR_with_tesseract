{
 "cells": [
  {
   "cell_type": "code",
   "execution_count": 1,
   "metadata": {},
   "outputs": [],
   "source": [
    "import cv2\n",
    "import numpy as np\n",
    "import pytesseract\n",
    "from PIL import Image\n",
    "\n"
   ]
  },
  {
   "cell_type": "code",
   "execution_count": 2,
   "metadata": {},
   "outputs": [],
   "source": [
    "image_path=r'Input Data\\flyerprocessing_240303083109330_6_2.jpg'"
   ]
  },
  {
   "cell_type": "code",
   "execution_count": 3,
   "metadata": {},
   "outputs": [],
   "source": [
    "image=cv2.imread(image_path)\n",
    "gray=cv2.cvtColor(image,cv2.COLOR_BGR2GRAY)\n"
   ]
  },
  {
   "cell_type": "code",
   "execution_count": 4,
   "metadata": {},
   "outputs": [],
   "source": [
    "\n",
    "_ ,binary_image=cv2.threshold(gray,0,255,cv2.THRESH_BINARY + cv2.THRESH_OTSU)"
   ]
  },
  {
   "cell_type": "code",
   "execution_count": 5,
   "metadata": {},
   "outputs": [
    {
     "data": {
      "text/plain": [
       "True"
      ]
     },
     "execution_count": 5,
     "metadata": {},
     "output_type": "execute_result"
    }
   ],
   "source": [
    "smooth_image= cv2.medianBlur(binary_image,1)\n",
    "\n",
    "preprocessed_image_path=r'Processed_Images\\image2.jpg'\n",
    "\n",
    "\n",
    "\n",
    "cv2.imwrite(preprocessed_image_path,smooth_image)"
   ]
  },
  {
   "cell_type": "code",
   "execution_count": 6,
   "metadata": {},
   "outputs": [],
   "source": [
    "preprocessed_image=Image.open(preprocessed_image_path)"
   ]
  },
  {
   "cell_type": "code",
   "execution_count": 7,
   "metadata": {},
   "outputs": [
    {
     "name": "stdout",
     "output_type": "stream",
     "text": [
      "مجموعة مارتيديرم للعناية بالبشرة والشعر\n",
      "أصتاف مضتارة.\n",
      "\n"
     ]
    }
   ],
   "source": [
    "config='--psm 6'\n",
    "pytesseract.pytesseract.tesseract_cmd = r'C:\\Users\\Shikhar\\AppData\\Local\\Programs\\Tesseract-OCR\\tesseract.exe'\n",
    "text=pytesseract.image_to_string(preprocessed_image_path,lang='ara',config=config)\n",
    "print(text)"
   ]
  },
  {
   "cell_type": "markdown",
   "metadata": {},
   "source": []
  }
 ],
 "metadata": {
  "kernelspec": {
   "display_name": "Python 3",
   "language": "python",
   "name": "python3"
  },
  "language_info": {
   "codemirror_mode": {
    "name": "ipython",
    "version": 3
   },
   "file_extension": ".py",
   "mimetype": "text/x-python",
   "name": "python",
   "nbconvert_exporter": "python",
   "pygments_lexer": "ipython3",
   "version": "3.10.11"
  }
 },
 "nbformat": 4,
 "nbformat_minor": 2
}
